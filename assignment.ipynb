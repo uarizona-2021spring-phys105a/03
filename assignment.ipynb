{
 "cells": [
  {
   "cell_type": "markdown",
   "id": "outer-airplane",
   "metadata": {},
   "source": [
    "## PHYS 105A:  Introduction to Scientific Computing\n",
    "\n",
    "# Assignment: Simple Plotting with `Python`\n",
    "\n",
    "In this assignment, we will learn how to do simple plotting with python."
   ]
  },
  {
   "cell_type": "code",
   "execution_count": null,
   "id": "detailed-nicaragua",
   "metadata": {},
   "outputs": [],
   "source": [
    "# Step 1. Import Libraries\n",
    "#\n",
    "# Although there are libraries such as `numpy` and `scipy` that helps scientific computing in python,\n",
    "# we will not use these libraries for this assignment.\n",
    "# The only external libraries allowed are `math` and `matplotlib`.\n",
    "\n",
    "from math import *\n",
    "from matplotlib import pyplot as plt"
   ]
  },
  {
   "cell_type": "code",
   "execution_count": null,
   "id": "occupied-grant",
   "metadata": {},
   "outputs": [],
   "source": [
    "# Step 2. Sample the x-axis\n",
    "\n",
    "x = []\n",
    "for i in range(100):\n",
    "    x.append(i / 10)\n",
    "    \n",
    "print(x)"
   ]
  },
  {
   "cell_type": "code",
   "execution_count": null,
   "id": "boxed-webmaster",
   "metadata": {},
   "outputs": [],
   "source": [
    "# Step 3. Create the y-values\n",
    "\n",
    "y = []\n",
    "for X in x:\n",
    "    y.append(sin(X))\n",
    "    \n",
    "print(y)"
   ]
  },
  {
   "cell_type": "code",
   "execution_count": null,
   "id": "facial-miniature",
   "metadata": {},
   "outputs": [],
   "source": [
    "# Step 4. Plot the function\n",
    "\n",
    "plt.plot(x, y)\n",
    "plt.xlabel('x')\n",
    "plt.ylabel('sin(x)')"
   ]
  },
  {
   "cell_type": "code",
   "execution_count": null,
   "id": "processed-printing",
   "metadata": {},
   "outputs": [],
   "source": [
    "# The syntax above to create lists are pretty ugly.\n",
    "# Python has a \"list comprehension\" syntax that makes thing slightly more readable.\n",
    "#\n",
    "# <list> = [<value> for <value> in <iterable>]\n",
    "#\n",
    "# The follow should plot the same function as above.\n",
    "\n",
    "x = [i/10 for i in range(100)]\n",
    "y = [sin(X) for X in x]\n",
    "\n",
    "plt.plot(x, y)\n",
    "plt.xlabel('x')\n",
    "plt.ylabel('sin(x)')"
   ]
  },
  {
   "cell_type": "code",
   "execution_count": null,
   "id": "subsequent-staff",
   "metadata": {},
   "outputs": [],
   "source": [
    "# It's straightforward to plot error bars\n",
    "\n",
    "sigma = [0.1]*100\n",
    "\n",
    "plt.errorbar(x, y, yerr=sigma)\n",
    "plt.xlabel('x')\n",
    "plt.ylabel('sin(x)')"
   ]
  },
  {
   "cell_type": "code",
   "execution_count": null,
   "id": "identified-great",
   "metadata": {},
   "outputs": [],
   "source": [
    "# Or change markers\n",
    "\n",
    "plt.plot(x, y, '+')\n",
    "plt.xlabel('x')\n",
    "plt.ylabel('sin(x)')"
   ]
  },
  {
   "cell_type": "code",
   "execution_count": null,
   "id": "excess-piano",
   "metadata": {},
   "outputs": [],
   "source": [
    "# Or change linestyle\n",
    "\n",
    "plt.plot(x, y, ':')\n",
    "plt.xlabel('x')\n",
    "plt.ylabel('sin(x)')"
   ]
  },
  {
   "cell_type": "code",
   "execution_count": null,
   "id": "forced-favorite",
   "metadata": {},
   "outputs": [],
   "source": [
    "# Problem 1:\n",
    "#\n",
    "# Plot the functions:\n",
    "#\n",
    "#     y = exp(-x)\n",
    "#     y = 1\n",
    "#     y = exp(+x)\n",
    "#\n",
    "# over the range [0, 3] on the same plot.\n",
    "#\n",
    "# Hint: you may call plt.plot() multiple times.\n",
    "\n"
   ]
  },
  {
   "cell_type": "code",
   "execution_count": null,
   "id": "based-reset",
   "metadata": {},
   "outputs": [],
   "source": [
    "import numpy as np\n",
    "\n",
    "phi = np.arange(91) * 4 * 2 * pi / 360\n",
    "x = np.sin(phi)\n",
    "y = np.cos(phi)"
   ]
  },
  {
   "cell_type": "code",
   "execution_count": null,
   "id": "eligible-purpose",
   "metadata": {},
   "outputs": [],
   "source": [
    "np.savetxt('data.txt', np.array(list(zip(x, y))))"
   ]
  },
  {
   "cell_type": "code",
   "execution_count": null,
   "id": "innocent-soccer",
   "metadata": {},
   "outputs": [],
   "source": [
    "# Problem 2:\n",
    "#\n",
    "# Implement a text reader for reading \"data.txt\"\n",
    "#\n",
    "# Hint: a template for a file reader is defined below.\n",
    "\n",
    "def load(name):\n",
    "    x, y = [], []\n",
    "    with open(name) as file:\n",
    "        for line in file:\n",
    "            values = [v for v in line.split()]\n",
    "            # do something here\n",
    "    return x, y\n",
    "\n",
    "x, y = load('data.txt')\n",
    "\n",
    "print(x)\n",
    "print(y)"
   ]
  },
  {
   "cell_type": "code",
   "execution_count": null,
   "id": "cardiac-kenya",
   "metadata": {},
   "outputs": [],
   "source": [
    "# Problem 3:\n",
    "#\n",
    "# Plot the two columns as x and y values from the data file \"data.txt\".\n",
    "# What do you see?\n",
    "#\n",
    "# Hint: you should have read x and y from problem 2.\n",
    "\n"
   ]
  }
 ],
 "metadata": {
  "kernelspec": {
   "display_name": "Python 3",
   "language": "python",
   "name": "python3"
  },
  "language_info": {
   "codemirror_mode": {
    "name": "ipython",
    "version": 3
   },
   "file_extension": ".py",
   "mimetype": "text/x-python",
   "name": "python",
   "nbconvert_exporter": "python",
   "pygments_lexer": "ipython3",
   "version": "3.8.7"
  }
 },
 "nbformat": 4,
 "nbformat_minor": 5
}
